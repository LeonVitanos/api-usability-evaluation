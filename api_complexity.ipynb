{
 "cells": [
  {
   "cell_type": "code",
   "execution_count": 1,
   "id": "685f645a-ccf2-43b0-b8e2-59bc30bea6bf",
   "metadata": {},
   "outputs": [],
   "source": [
    "import xml.etree.ElementTree as ET\n",
    "src_ = \"{http://www.srcML.org/srcML/src}\"\n",
    "\n",
    "api_names = [\"Sienna\", \"Azureus\", \"Prefuse\", \"JackRabbit\", \"Jung\", \"jEdit\"]\n",
    "api_oc_sum = []\n",
    "api_oc_mean = []\n",
    "api_is_sum = []\n",
    "api_is_mean = []\n",
    "api_il_sum = []\n",
    "api_il_mean = []\n",
    "\n",
    "api_n_files = []\n",
    "api_n_blank_lines = []\n",
    "api_n_comments = []\n",
    "api_n_lines_of_code = []"
   ]
  },
  {
   "cell_type": "code",
   "execution_count": 2,
   "id": "62719dd8-026b-421b-a47d-f7344f7053e4",
   "metadata": {},
   "outputs": [],
   "source": [
    "import statistics\n",
    "\n",
    "def strength(parameter):\n",
    "    par = str(parameter.text).lower()\n",
    "        \n",
    "    if par == \"boolean\" or \"exception\" in par or \"throwable\" in par:\n",
    "        return 0\n",
    "    elif par in [\"int\", \"char\", \"byte\", \"field\", \"long\", \"short\"]:\n",
    "        return 1\n",
    "    elif par in [\"real\", \"double\", \"float\"]:\n",
    "        return 2\n",
    "    elif par in [\"string\", \"list\", \"json\", \"iterable\", \"date\"] or \"array\" in par or \"set\" in par:\n",
    "        return 3\n",
    "    elif par == \"object\" or \"class\" in par or \"map\" in par:\n",
    "        return 6\n",
    "    elif \"file\" in par:\n",
    "        return 10\n",
    "    else:\n",
    "        #print(par)\n",
    "        return -1\n",
    "\n",
    "# Count API operation complexity and interface size\n",
    "def count_api_oc_and_is(): \n",
    "    api_oc = []\n",
    "    api_is = []\n",
    "    api_il = []\n",
    "\n",
    "    for class_ in root:\n",
    "\n",
    "        total_function_operation_complexity = 0\n",
    "        total_function_interface_size = 0\n",
    "        total_function_interaction_level = 0\n",
    "        \n",
    "        total_attribute_size = 0\n",
    "        for attribute in class_.findall(\".//\" + src_ + \"block/\" + src_ + \"decl_stmt\"):\n",
    "            attribute_type = attribute.findall(\".//\" + src_ + \"decl/\" + src_ + \"type/\" + src_ + \"name\")\n",
    "            if str(attribute_type[0].text) == \"None\":\n",
    "                val = strength(attribute_type[0][0])\n",
    "            else:\n",
    "                val = strength(attribute_type[0])\n",
    "                \n",
    "            if(val>=0):\n",
    "                 total_attribute_size += val\n",
    "                            \n",
    "        for function in class_.findall(\".//\" + src_ + \"function\"):\n",
    "            n_parameters = 0\n",
    "            function_operation_complexity = 0\n",
    "\n",
    "            parameter_types = function.findall(\".//\" + src_ + \"parameter_list/\" + src_ + \"parameter/\" + src_ + \"decl/\" +\n",
    "                                   src_ + \"type/\" + src_ + \"name\")\n",
    "            for par_type in parameter_types:\n",
    "                val = 0\n",
    "                if str(par_type.text) == \"None\":\n",
    "                    val = strength(par_type[0])\n",
    "                else:\n",
    "                    val = strength(par_type)\n",
    "                    \n",
    "                if val>=0:\n",
    "                    function_operation_complexity += val\n",
    "                    n_parameters += 1\n",
    "                    \n",
    "            total_function_operation_complexity += function_operation_complexity\n",
    "            total_function_interface_size += function_operation_complexity + n_parameters\n",
    "            total_function_interaction_level += total_attribute_size *  function_operation_complexity\n",
    "\n",
    "        api_oc.append(total_function_operation_complexity)\n",
    "        api_is.append(total_function_interface_size)\n",
    "        api_il.append(total_function_interaction_level)\n",
    "    \n",
    "    #print(api_oc)\n",
    "    print(\"API OC - Summation:\", sum(api_oc), \", Mean:\", statistics.mean(api_oc))\n",
    "    api_oc_sum.append(sum(api_oc))\n",
    "    api_oc_mean.append(statistics.mean(api_oc))\n",
    "    \n",
    "    #print(api_is)\n",
    "    print(\"API IS - Summation:\", sum(api_is), \", Mean:\", statistics.mean(api_is))\n",
    "    api_is_sum.append(sum(api_is))\n",
    "    api_is_mean.append(statistics.mean(api_is))\n",
    "    \n",
    "    #print(api_il)\n",
    "    print(\"API IL - Summation:\", sum(api_il), \", Mean:\", statistics.mean(api_il))\n",
    "    api_il_sum.append(sum(api_il))\n",
    "    api_il_mean.append(statistics.mean(api_il))"
   ]
  },
  {
   "cell_type": "markdown",
   "id": "e48be060-1f02-4eaa-9519-9b2c48b788d8",
   "metadata": {},
   "source": [
    "## APIs"
   ]
  },
  {
   "cell_type": "markdown",
   "id": "c1bff3ee-1451-4d5f-b1f0-4be44089739a",
   "metadata": {},
   "source": [
    "### Siena\n",
    "https://github.com/mandubian/siena"
   ]
  },
  {
   "cell_type": "code",
   "execution_count": 3,
   "id": "c93f5772-7c05-47f7-b1af-9bb985cea90b",
   "metadata": {
    "tags": []
   },
   "outputs": [
    {
     "name": "stdout",
     "output_type": "stream",
     "text": [
      "API OC - Summation: 4686 , Mean: 28.059880239520957\n",
      "API IS - Summation: 6271 , Mean: 37.550898203592816\n",
      "API IL - Summation: 88833 , Mean: 531.934131736527\n"
     ]
    }
   ],
   "source": [
    "tree = ET.parse('siena.xml')\n",
    "root = tree.getroot()\n",
    "\n",
    "# Values come from cloc\n",
    "api_n_files.append(167)\n",
    "api_n_blank_lines.append(4186)\n",
    "api_n_comments.append(5456)\n",
    "api_n_lines_of_code.append(19944)\n",
    "\n",
    "count_api_oc_and_is()"
   ]
  },
  {
   "cell_type": "markdown",
   "id": "e00b4e22-b25d-4c51-9337-6b3ad813da98",
   "metadata": {},
   "source": [
    "### Azureus\n",
    "https://sourceforge.net/projects/azureus/files/"
   ]
  },
  {
   "cell_type": "code",
   "execution_count": 4,
   "id": "565ef4d5-b2d4-4f09-84cb-331e80838b7f",
   "metadata": {
    "tags": []
   },
   "outputs": [
    {
     "name": "stdout",
     "output_type": "stream",
     "text": [
      "API OC - Summation: 53114 , Mean: 14.676429953025698\n",
      "API IS - Summation: 81489 , Mean: 22.51699364465322\n",
      "API IL - Summation: 1872688 , Mean: 517.4600718430505\n"
     ]
    }
   ],
   "source": [
    "tree = ET.parse('azureus.xml')\n",
    "root = tree.getroot()\n",
    "\n",
    "#Values come from cloc\n",
    "api_n_files.append(3619)\n",
    "api_n_blank_lines.append(233435)\n",
    "api_n_comments.append(129623)\n",
    "api_n_lines_of_code.append(633247)\n",
    "\n",
    "count_api_oc_and_is()"
   ]
  },
  {
   "cell_type": "markdown",
   "id": "481d2a15-af1c-4b6f-8e87-924ff4856415",
   "metadata": {
    "tags": []
   },
   "source": [
    "### Prefuse\n",
    "https://github.com/prefuse/Prefuse"
   ]
  },
  {
   "cell_type": "code",
   "execution_count": 5,
   "id": "a333fcb5-afb1-4f71-b6e6-0b0f2f5f959c",
   "metadata": {},
   "outputs": [
    {
     "name": "stdout",
     "output_type": "stream",
     "text": [
      "API OC - Summation: 5820 , Mean: 14.441687344913152\n",
      "API IS - Summation: 8890 , Mean: 22.05955334987593\n",
      "API IL - Summation: 64428 , Mean: 159.8709677419355\n"
     ]
    }
   ],
   "source": [
    "tree = ET.parse('prefuse.xml')\n",
    "root = tree.getroot()\n",
    "\n",
    "#Values come from cloc\n",
    "api_n_files.append(445)\n",
    "api_n_blank_lines.append(9128)\n",
    "api_n_comments.append(27672)\n",
    "api_n_lines_of_code.append(42574)\n",
    "\n",
    "count_api_oc_and_is()"
   ]
  },
  {
   "cell_type": "markdown",
   "id": "67a81956-6c89-4710-b855-b517c0ceae31",
   "metadata": {},
   "source": [
    "### Apache Jackrabbit\n",
    "https://github.com/apache/jackrabbit"
   ]
  },
  {
   "cell_type": "code",
   "execution_count": 6,
   "id": "30b77035-c8fc-4bc9-861c-70a5a29a4a3c",
   "metadata": {},
   "outputs": [
    {
     "name": "stdout",
     "output_type": "stream",
     "text": [
      "API OC - Summation: 24975 , Mean: 7.981783317353787\n",
      "API IS - Summation: 40985 , Mean: 13.098434004474273\n",
      "API IL - Summation: 357086 , Mean: 114.12144455097476\n"
     ]
    }
   ],
   "source": [
    "tree = ET.parse('jackrabbit.xml')\n",
    "root = tree.getroot()\n",
    "\n",
    "#Values come from cloc\n",
    "api_n_files.append(3408)\n",
    "api_n_blank_lines.append(67897)\n",
    "api_n_comments.append(214618)\n",
    "api_n_lines_of_code.append(362089)\n",
    "\n",
    "count_api_oc_and_is()"
   ]
  },
  {
   "cell_type": "markdown",
   "id": "9cd92754-b383-4f76-989b-ad4e098b0f1a",
   "metadata": {},
   "source": [
    "### Jung\n",
    "https://github.com/jrtom/jung"
   ]
  },
  {
   "cell_type": "code",
   "execution_count": 7,
   "id": "90f877cf-a138-4577-8879-53efadd71593",
   "metadata": {},
   "outputs": [
    {
     "name": "stdout",
     "output_type": "stream",
     "text": [
      "API OC - Summation: 2002 , Mean: 4.570776255707763\n",
      "API IS - Summation: 3023 , Mean: 6.901826484018265\n",
      "API IL - Summation: 16713 , Mean: 38.157534246575345\n"
     ]
    }
   ],
   "source": [
    "tree = ET.parse('jung.xml')\n",
    "root = tree.getroot()\n",
    "\n",
    "#Values come from cloc\n",
    "api_n_files.append(494)\n",
    "api_n_blank_lines.append(8310)\n",
    "api_n_comments.append(15021)\n",
    "api_n_lines_of_code.append(41305)\n",
    "\n",
    "count_api_oc_and_is()"
   ]
  },
  {
   "cell_type": "markdown",
   "id": "1eff2010-268b-4a48-bd3a-84b0ff4294a7",
   "metadata": {},
   "source": [
    "### jEdit\n",
    "https://github.com/albfan/jEdit"
   ]
  },
  {
   "cell_type": "code",
   "execution_count": 8,
   "id": "580f09be-c1f1-420a-bdcc-8fca8e88d83c",
   "metadata": {},
   "outputs": [
    {
     "name": "stdout",
     "output_type": "stream",
     "text": [
      "API OC - Summation: 10415 , Mean: 18.08159722222222\n",
      "API IS - Summation: 15688 , Mean: 27.23611111111111\n",
      "API IL - Summation: 234411 , Mean: 406.9635416666667\n"
     ]
    }
   ],
   "source": [
    "tree = ET.parse('jedit.xml')\n",
    "root = tree.getroot()\n",
    "\n",
    "#Values come from cloc\n",
    "api_n_files.append(575)\n",
    "api_n_blank_lines.append(20434)\n",
    "api_n_comments.append(48619)\n",
    "api_n_lines_of_code.append(119275)\n",
    "\n",
    "count_api_oc_and_is()"
   ]
  },
  {
   "cell_type": "markdown",
   "id": "5c60126c-1e1e-4b28-b2cc-8d305c9e191d",
   "metadata": {},
   "source": [
    "## Clustering"
   ]
  },
  {
   "cell_type": "code",
   "execution_count": 9,
   "id": "c9b6d1c2-86fc-435f-98d0-949b811edc66",
   "metadata": {},
   "outputs": [
    {
     "data": {
      "text/html": [
       "<div>\n",
       "<style scoped>\n",
       "    .dataframe tbody tr th:only-of-type {\n",
       "        vertical-align: middle;\n",
       "    }\n",
       "\n",
       "    .dataframe tbody tr th {\n",
       "        vertical-align: top;\n",
       "    }\n",
       "\n",
       "    .dataframe thead th {\n",
       "        text-align: right;\n",
       "    }\n",
       "</style>\n",
       "<table border=\"1\" class=\"dataframe\">\n",
       "  <thead>\n",
       "    <tr style=\"text-align: right;\">\n",
       "      <th></th>\n",
       "      <th>Name</th>\n",
       "      <th>api_oc_sum</th>\n",
       "      <th>api_oc_mean</th>\n",
       "      <th>api_is_sum</th>\n",
       "      <th>api_is_mean</th>\n",
       "      <th>api_il_sum</th>\n",
       "      <th>api_il_mean</th>\n",
       "      <th>api_n_files</th>\n",
       "      <th>api_n_blank_lines</th>\n",
       "      <th>api_n_comments</th>\n",
       "      <th>api_n_lines_of_code</th>\n",
       "    </tr>\n",
       "  </thead>\n",
       "  <tbody>\n",
       "    <tr>\n",
       "      <th>0</th>\n",
       "      <td>Sienna</td>\n",
       "      <td>4686</td>\n",
       "      <td>28.059880</td>\n",
       "      <td>6271</td>\n",
       "      <td>37.550898</td>\n",
       "      <td>88833</td>\n",
       "      <td>531.934132</td>\n",
       "      <td>167</td>\n",
       "      <td>4186</td>\n",
       "      <td>5456</td>\n",
       "      <td>19944</td>\n",
       "    </tr>\n",
       "    <tr>\n",
       "      <th>1</th>\n",
       "      <td>Azureus</td>\n",
       "      <td>53114</td>\n",
       "      <td>14.676430</td>\n",
       "      <td>81489</td>\n",
       "      <td>22.516994</td>\n",
       "      <td>1872688</td>\n",
       "      <td>517.460072</td>\n",
       "      <td>3619</td>\n",
       "      <td>233435</td>\n",
       "      <td>129623</td>\n",
       "      <td>633247</td>\n",
       "    </tr>\n",
       "    <tr>\n",
       "      <th>2</th>\n",
       "      <td>Prefuse</td>\n",
       "      <td>5820</td>\n",
       "      <td>14.441687</td>\n",
       "      <td>8890</td>\n",
       "      <td>22.059553</td>\n",
       "      <td>64428</td>\n",
       "      <td>159.870968</td>\n",
       "      <td>445</td>\n",
       "      <td>9128</td>\n",
       "      <td>27672</td>\n",
       "      <td>42574</td>\n",
       "    </tr>\n",
       "    <tr>\n",
       "      <th>3</th>\n",
       "      <td>JackRabbit</td>\n",
       "      <td>24975</td>\n",
       "      <td>7.981783</td>\n",
       "      <td>40985</td>\n",
       "      <td>13.098434</td>\n",
       "      <td>357086</td>\n",
       "      <td>114.121445</td>\n",
       "      <td>3408</td>\n",
       "      <td>67897</td>\n",
       "      <td>214618</td>\n",
       "      <td>362089</td>\n",
       "    </tr>\n",
       "    <tr>\n",
       "      <th>4</th>\n",
       "      <td>Jung</td>\n",
       "      <td>2002</td>\n",
       "      <td>4.570776</td>\n",
       "      <td>3023</td>\n",
       "      <td>6.901826</td>\n",
       "      <td>16713</td>\n",
       "      <td>38.157534</td>\n",
       "      <td>494</td>\n",
       "      <td>8310</td>\n",
       "      <td>15021</td>\n",
       "      <td>41305</td>\n",
       "    </tr>\n",
       "    <tr>\n",
       "      <th>5</th>\n",
       "      <td>jEdit</td>\n",
       "      <td>10415</td>\n",
       "      <td>18.081597</td>\n",
       "      <td>15688</td>\n",
       "      <td>27.236111</td>\n",
       "      <td>234411</td>\n",
       "      <td>406.963542</td>\n",
       "      <td>575</td>\n",
       "      <td>20434</td>\n",
       "      <td>48619</td>\n",
       "      <td>119275</td>\n",
       "    </tr>\n",
       "  </tbody>\n",
       "</table>\n",
       "</div>"
      ],
      "text/plain": [
       "         Name  api_oc_sum  api_oc_mean  api_is_sum  api_is_mean  api_il_sum  \\\n",
       "0      Sienna        4686    28.059880        6271    37.550898       88833   \n",
       "1     Azureus       53114    14.676430       81489    22.516994     1872688   \n",
       "2     Prefuse        5820    14.441687        8890    22.059553       64428   \n",
       "3  JackRabbit       24975     7.981783       40985    13.098434      357086   \n",
       "4        Jung        2002     4.570776        3023     6.901826       16713   \n",
       "5       jEdit       10415    18.081597       15688    27.236111      234411   \n",
       "\n",
       "   api_il_mean  api_n_files  api_n_blank_lines  api_n_comments  \\\n",
       "0   531.934132          167               4186            5456   \n",
       "1   517.460072         3619             233435          129623   \n",
       "2   159.870968          445               9128           27672   \n",
       "3   114.121445         3408              67897          214618   \n",
       "4    38.157534          494               8310           15021   \n",
       "5   406.963542          575              20434           48619   \n",
       "\n",
       "   api_n_lines_of_code  \n",
       "0                19944  \n",
       "1               633247  \n",
       "2                42574  \n",
       "3               362089  \n",
       "4                41305  \n",
       "5               119275  "
      ]
     },
     "execution_count": 9,
     "metadata": {},
     "output_type": "execute_result"
    }
   ],
   "source": [
    "import pandas as pd\n",
    "df = pd.DataFrame({'Name': api_names, 'api_oc_sum': api_oc_sum, 'api_oc_mean': api_oc_mean, 'api_is_sum': api_is_sum, 'api_is_mean': api_is_mean,\n",
    "                  'api_il_sum': api_il_sum, 'api_il_mean': api_il_mean, 'api_n_files': api_n_files, 'api_n_blank_lines': api_n_blank_lines,\n",
    "                  'api_n_comments': api_n_comments, 'api_n_lines_of_code': api_n_lines_of_code})\n",
    "df"
   ]
  },
  {
   "cell_type": "code",
   "execution_count": 11,
   "id": "1b1c1ff9-86db-44f9-a310-e34958e69632",
   "metadata": {},
   "outputs": [
    {
     "data": {
      "text/html": [
       "<div>\n",
       "<style scoped>\n",
       "    .dataframe tbody tr th:only-of-type {\n",
       "        vertical-align: middle;\n",
       "    }\n",
       "\n",
       "    .dataframe tbody tr th {\n",
       "        vertical-align: top;\n",
       "    }\n",
       "\n",
       "    .dataframe thead th {\n",
       "        text-align: right;\n",
       "    }\n",
       "</style>\n",
       "<table border=\"1\" class=\"dataframe\">\n",
       "  <thead>\n",
       "    <tr style=\"text-align: right;\">\n",
       "      <th></th>\n",
       "      <th>Name</th>\n",
       "      <th>api_oc_sum_by_lc</th>\n",
       "      <th>api_oc_mean</th>\n",
       "      <th>api_is_sum_by_lc</th>\n",
       "      <th>api_is_mean</th>\n",
       "      <th>api_il_sum_by_lc</th>\n",
       "      <th>api_il_mean</th>\n",
       "    </tr>\n",
       "  </thead>\n",
       "  <tbody>\n",
       "    <tr>\n",
       "      <th>0</th>\n",
       "      <td>Sienna</td>\n",
       "      <td>0.234958</td>\n",
       "      <td>28.059880</td>\n",
       "      <td>0.314430</td>\n",
       "      <td>37.550898</td>\n",
       "      <td>4.454122</td>\n",
       "      <td>531.934132</td>\n",
       "    </tr>\n",
       "    <tr>\n",
       "      <th>1</th>\n",
       "      <td>Azureus</td>\n",
       "      <td>0.083876</td>\n",
       "      <td>14.676430</td>\n",
       "      <td>0.128684</td>\n",
       "      <td>22.516994</td>\n",
       "      <td>2.957279</td>\n",
       "      <td>517.460072</td>\n",
       "    </tr>\n",
       "    <tr>\n",
       "      <th>2</th>\n",
       "      <td>Prefuse</td>\n",
       "      <td>0.136703</td>\n",
       "      <td>14.441687</td>\n",
       "      <td>0.208813</td>\n",
       "      <td>22.059553</td>\n",
       "      <td>1.513318</td>\n",
       "      <td>159.870968</td>\n",
       "    </tr>\n",
       "    <tr>\n",
       "      <th>3</th>\n",
       "      <td>JackRabbit</td>\n",
       "      <td>0.068975</td>\n",
       "      <td>7.981783</td>\n",
       "      <td>0.113190</td>\n",
       "      <td>13.098434</td>\n",
       "      <td>0.986183</td>\n",
       "      <td>114.121445</td>\n",
       "    </tr>\n",
       "    <tr>\n",
       "      <th>4</th>\n",
       "      <td>Jung</td>\n",
       "      <td>0.048469</td>\n",
       "      <td>4.570776</td>\n",
       "      <td>0.073187</td>\n",
       "      <td>6.901826</td>\n",
       "      <td>0.404624</td>\n",
       "      <td>38.157534</td>\n",
       "    </tr>\n",
       "    <tr>\n",
       "      <th>5</th>\n",
       "      <td>jEdit</td>\n",
       "      <td>0.087319</td>\n",
       "      <td>18.081597</td>\n",
       "      <td>0.131528</td>\n",
       "      <td>27.236111</td>\n",
       "      <td>1.965299</td>\n",
       "      <td>406.963542</td>\n",
       "    </tr>\n",
       "  </tbody>\n",
       "</table>\n",
       "</div>"
      ],
      "text/plain": [
       "         Name  api_oc_sum_by_lc  api_oc_mean  api_is_sum_by_lc  api_is_mean  \\\n",
       "0      Sienna          0.234958    28.059880          0.314430    37.550898   \n",
       "1     Azureus          0.083876    14.676430          0.128684    22.516994   \n",
       "2     Prefuse          0.136703    14.441687          0.208813    22.059553   \n",
       "3  JackRabbit          0.068975     7.981783          0.113190    13.098434   \n",
       "4        Jung          0.048469     4.570776          0.073187     6.901826   \n",
       "5       jEdit          0.087319    18.081597          0.131528    27.236111   \n",
       "\n",
       "   api_il_sum_by_lc  api_il_mean  \n",
       "0          4.454122   531.934132  \n",
       "1          2.957279   517.460072  \n",
       "2          1.513318   159.870968  \n",
       "3          0.986183   114.121445  \n",
       "4          0.404624    38.157534  \n",
       "5          1.965299   406.963542  "
      ]
     },
     "execution_count": 11,
     "metadata": {},
     "output_type": "execute_result"
    }
   ],
   "source": [
    "df[\"api_oc_sum_by_lc\"] = df[\"api_oc_sum\"]/df[\"api_n_lines_of_code\"]\n",
    "df[\"api_is_sum_by_lc\"] = df[\"api_is_sum\"]/df[\"api_n_lines_of_code\"]\n",
    "df[\"api_il_sum_by_lc\"] = df[\"api_il_sum\"]/df[\"api_n_lines_of_code\"]\n",
    "df2 = df[[\"Name\", \"api_oc_sum_by_lc\", \"api_oc_mean\", \"api_is_sum_by_lc\", \"api_is_mean\", \"api_il_sum_by_lc\", \"api_il_mean\"]]\n",
    "df2"
   ]
  },
  {
   "cell_type": "code",
   "execution_count": 12,
   "id": "68627240-baad-41cd-b368-d66f949dcf91",
   "metadata": {},
   "outputs": [
    {
     "data": {
      "text/html": [
       "<div>\n",
       "<style scoped>\n",
       "    .dataframe tbody tr th:only-of-type {\n",
       "        vertical-align: middle;\n",
       "    }\n",
       "\n",
       "    .dataframe tbody tr th {\n",
       "        vertical-align: top;\n",
       "    }\n",
       "\n",
       "    .dataframe thead th {\n",
       "        text-align: right;\n",
       "    }\n",
       "</style>\n",
       "<table border=\"1\" class=\"dataframe\">\n",
       "  <thead>\n",
       "    <tr style=\"text-align: right;\">\n",
       "      <th></th>\n",
       "      <th>Name</th>\n",
       "      <th>api_oc_sum_by_lc</th>\n",
       "      <th>api_oc_mean</th>\n",
       "      <th>api_is_sum_by_lc</th>\n",
       "      <th>api_is_mean</th>\n",
       "      <th>api_il_sum_by_lc</th>\n",
       "      <th>api_il_mean</th>\n",
       "      <th>Clusters</th>\n",
       "    </tr>\n",
       "  </thead>\n",
       "  <tbody>\n",
       "    <tr>\n",
       "      <th>0</th>\n",
       "      <td>Sienna</td>\n",
       "      <td>0.234958</td>\n",
       "      <td>28.059880</td>\n",
       "      <td>0.314430</td>\n",
       "      <td>37.550898</td>\n",
       "      <td>4.454122</td>\n",
       "      <td>531.934132</td>\n",
       "      <td>1</td>\n",
       "    </tr>\n",
       "    <tr>\n",
       "      <th>1</th>\n",
       "      <td>Azureus</td>\n",
       "      <td>0.083876</td>\n",
       "      <td>14.676430</td>\n",
       "      <td>0.128684</td>\n",
       "      <td>22.516994</td>\n",
       "      <td>2.957279</td>\n",
       "      <td>517.460072</td>\n",
       "      <td>1</td>\n",
       "    </tr>\n",
       "    <tr>\n",
       "      <th>2</th>\n",
       "      <td>Prefuse</td>\n",
       "      <td>0.136703</td>\n",
       "      <td>14.441687</td>\n",
       "      <td>0.208813</td>\n",
       "      <td>22.059553</td>\n",
       "      <td>1.513318</td>\n",
       "      <td>159.870968</td>\n",
       "      <td>0</td>\n",
       "    </tr>\n",
       "    <tr>\n",
       "      <th>3</th>\n",
       "      <td>JackRabbit</td>\n",
       "      <td>0.068975</td>\n",
       "      <td>7.981783</td>\n",
       "      <td>0.113190</td>\n",
       "      <td>13.098434</td>\n",
       "      <td>0.986183</td>\n",
       "      <td>114.121445</td>\n",
       "      <td>0</td>\n",
       "    </tr>\n",
       "    <tr>\n",
       "      <th>4</th>\n",
       "      <td>Jung</td>\n",
       "      <td>0.048469</td>\n",
       "      <td>4.570776</td>\n",
       "      <td>0.073187</td>\n",
       "      <td>6.901826</td>\n",
       "      <td>0.404624</td>\n",
       "      <td>38.157534</td>\n",
       "      <td>0</td>\n",
       "    </tr>\n",
       "    <tr>\n",
       "      <th>5</th>\n",
       "      <td>jEdit</td>\n",
       "      <td>0.087319</td>\n",
       "      <td>18.081597</td>\n",
       "      <td>0.131528</td>\n",
       "      <td>27.236111</td>\n",
       "      <td>1.965299</td>\n",
       "      <td>406.963542</td>\n",
       "      <td>1</td>\n",
       "    </tr>\n",
       "  </tbody>\n",
       "</table>\n",
       "</div>"
      ],
      "text/plain": [
       "         Name  api_oc_sum_by_lc  api_oc_mean  api_is_sum_by_lc  api_is_mean  \\\n",
       "0      Sienna          0.234958    28.059880          0.314430    37.550898   \n",
       "1     Azureus          0.083876    14.676430          0.128684    22.516994   \n",
       "2     Prefuse          0.136703    14.441687          0.208813    22.059553   \n",
       "3  JackRabbit          0.068975     7.981783          0.113190    13.098434   \n",
       "4        Jung          0.048469     4.570776          0.073187     6.901826   \n",
       "5       jEdit          0.087319    18.081597          0.131528    27.236111   \n",
       "\n",
       "   api_il_sum_by_lc  api_il_mean  Clusters  \n",
       "0          4.454122   531.934132         1  \n",
       "1          2.957279   517.460072         1  \n",
       "2          1.513318   159.870968         0  \n",
       "3          0.986183   114.121445         0  \n",
       "4          0.404624    38.157534         0  \n",
       "5          1.965299   406.963542         1  "
      ]
     },
     "execution_count": 12,
     "metadata": {},
     "output_type": "execute_result"
    }
   ],
   "source": [
    "import sklearn.cluster as cluster\n",
    "import warnings\n",
    "warnings.filterwarnings('ignore')\n",
    "\n",
    "kmeans = cluster.KMeans(n_clusters=2, init=\"k-means++\")\n",
    "kmeans = kmeans.fit(df2[[\"api_oc_sum_by_lc\", \"api_oc_mean\", \"api_is_sum_by_lc\", \"api_is_mean\", \"api_il_sum_by_lc\", \"api_il_mean\"]])\n",
    "df2['Clusters'] = kmeans.labels_\n",
    "#df2['Clusters'] = df2['Clusters'].replace({0: \"Low\"})\n",
    "#sns.scatterplot(x=\"api_oc_sum_by_lc\", y=\"api_is_sum_by_lc\", hue = 'Clusters', data = df2)\n",
    "df2"
   ]
  },
  {
   "cell_type": "code",
   "execution_count": 13,
   "id": "f2b9da4d-d668-4134-a2ad-98dc23774bae",
   "metadata": {},
   "outputs": [
    {
     "data": {
      "image/png": "[encoded data removed]",
      "text/plain": [
       "<Figure size 1128.75x1080 with 27 Axes>"
      ]
     },
     "metadata": {
      "needs_background": "light"
     },
     "output_type": "display_data"
    }
   ],
   "source": [
    "import seaborn as sns\n",
    "import matplotlib.pyplot as plt\n",
    "\n",
    "sns.pairplot(df2, vars=df2[[\"api_oc_sum_by_lc\", \"api_oc_mean\", \"api_is_sum_by_lc\", \"api_is_mean\", \"api_il_sum_by_lc\", \"api_il_mean\"]], hue = 'Clusters', corner=True)\n",
    "plt.show()"
   ]
  }
 ],
 "metadata": {
  "kernelspec": {
   "display_name": "Python 3 (ipykernel)",
   "language": "python",
   "name": "python3"
  },
  "language_info": {
   "codemirror_mode": {
    "name": "ipython",
    "version": 3
   },
   "file_extension": ".py",
   "mimetype": "text/x-python",
   "name": "python",
   "nbconvert_exporter": "python",
   "pygments_lexer": "ipython3",
   "version": "3.9.7"
  }
 },
 "nbformat": 4,
 "nbformat_minor": 5
}
